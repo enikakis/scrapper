{
 "cells": [
  {
   "cell_type": "code",
   "execution_count": 1,
   "metadata": {},
   "outputs": [],
   "source": [
    "from os import path\n",
    "from selenium import webdriver\n",
    "from scraper.constants import Constants as c\n",
    "from scraper.account import Account\n",
    "from time import sleep\n",
    "from selenium.webdriver.common.by import By\n",
    "from selenium.webdriver.support import expected_conditions as EC\n",
    "from selenium.webdriver.chrome.service import Service\n",
    "from scraper.person import Person\n",
    "from openpyxl import Workbook, load_workbook\n",
    "import pandas as pd\n"
   ]
  },
  {
   "cell_type": "code",
   "execution_count": 2,
   "metadata": {},
   "outputs": [],
   "source": [
    "\n",
    "crome_path = path.abspath(\"chrome_driver/chromedriver\")\n",
    "ser = Service(crome_path)\n",
    "driver = webdriver.Chrome(service= ser)\n",
    "account = Account(driver)\n",
    "account.login(c.email, c.password)\n",
    "url = c.testUrls[8]"
   ]
  },
  {
   "cell_type": "code",
   "execution_count": 3,
   "metadata": {},
   "outputs": [
    {
     "name": "stderr",
     "output_type": "stream",
     "text": [
      "WARNING:root:Connections not found\n",
      "WARNING:root:About text not found\n",
      "WARNING:root:scroll not found experience-section\n",
      "WARNING:root:scroll not found experience-section\n",
      "WARNING:root:scroll not found experience-section\n",
      "WARNING:root:scroll not found experience-section\n",
      "WARNING:root:scroll not found experience-section\n",
      "WARNING:root:Button not located in section: experience-section \n",
      "WARNING:root:Experiance section not found\n",
      "WARNING:root:scroll not found education-section\n",
      "WARNING:root:scroll not found education-section\n",
      "WARNING:root:scroll not found education-section\n",
      "WARNING:root:scroll not found education-section\n",
      "WARNING:root:scroll not found education-section\n",
      "WARNING:root:Button not located in section: education-section \n",
      "WARNING:root:Education section not found\n",
      "WARNING:root:Accomplisment not found\n"
     ]
    }
   ],
   "source": [
    "my_person = Person(driver, person_url=\"https://www.linkedin.com/in/nikolaos-matsatsinis-65b03388/\")"
   ]
  },
  {
   "cell_type": "code",
   "execution_count": 17,
   "metadata": {},
   "outputs": [],
   "source": [
    "# Create a New workbook\n",
    "wb = Workbook()\n",
    "# Create a new sheet\n",
    "ws = wb.create_sheet(title=\"LinkedIn_data\")\n",
    "# excel titles\n",
    "ws.append([\"name\", \"job title\", \"location\", \"connections\", \"about\", \"experience\", \"education\", \"accomplishments\", \"profile url\"])\n",
    "for person in [my_person]:\n",
    "    data = []\n",
    "    data.append(person.name)\n",
    "    data.append(person.job_title)\n",
    "    data.append(person.location)\n",
    "    data.append(person.connections)\n",
    "    data.append(\"{about}\".format(about=person.about))\n",
    "    data.append(\"{experiences}\".format(experiences=person.experiences))\n",
    "    data.append(\"{educations}\".format(educations=person.educations))\n",
    "    data.append(\"{accomplishment}\".format(accomplishment=person.accomplishments))\n",
    "    data.append(\"{url}\".format(url=person.person_url))\n",
    "    ws.append(data)\n",
    "#Save data\n",
    "wb.save('Text.xlsx')"
   ]
  }
 ],
 "metadata": {
  "interpreter": {
   "hash": "68b9809893f00be4f9844639f67f1f8c2dc224dd6266889d0924eaec36d0875c"
  },
  "kernelspec": {
   "display_name": "Python 3.9.6 64-bit",
   "language": "python",
   "name": "python3"
  },
  "language_info": {
   "codemirror_mode": {
    "name": "ipython",
    "version": 3
   },
   "file_extension": ".py",
   "mimetype": "text/x-python",
   "name": "python",
   "nbconvert_exporter": "python",
   "pygments_lexer": "ipython3",
   "version": "3.9.6"
  },
  "orig_nbformat": 4
 },
 "nbformat": 4,
 "nbformat_minor": 2
}
